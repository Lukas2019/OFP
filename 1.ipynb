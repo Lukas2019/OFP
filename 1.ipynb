{
 "cells": [
  {
   "cell_type": "code",
   "execution_count": null,
   "id": "156e958a",
   "metadata": {},
   "outputs": [
    {
     "name": "stdout",
     "output_type": "stream",
     "text": [
      "Hello World\n"
     ]
    }
   ],
   "source": [
    "print(\"Hello World\")"
   ]
  },
  {
   "cell_type": "code",
   "execution_count": null,
   "id": "5d58d13b",
   "metadata": {},
   "outputs": [],
   "source": [
    "def verarbeite_optionale_daten(daten):\n",
    "    # Füge hier deinen Code ein\n",
    "    if daten:\n",
    "        return f\"Daten verarbeitet: {daten}\"\n",
    "    return \"Keine Daten vorhanden.\""
   ]
  },
  {
   "cell_type": "code",
   "execution_count": 8,
   "id": "1d291deb",
   "metadata": {},
   "outputs": [
    {
     "data": {
      "text/plain": [
       "'Keine Daten vorhanden.'"
      ]
     },
     "execution_count": 8,
     "metadata": {},
     "output_type": "execute_result"
    }
   ],
   "source": [
    "verarbeite_optionale_daten(\"test\")\n",
    "verarbeite_optionale_daten(None)"
   ]
  }
 ],
 "metadata": {
  "kernelspec": {
   "display_name": ".venv",
   "language": "python",
   "name": "python3"
  },
  "language_info": {
   "codemirror_mode": {
    "name": "ipython",
    "version": 3
   },
   "file_extension": ".py",
   "mimetype": "text/x-python",
   "name": "python",
   "nbconvert_exporter": "python",
   "pygments_lexer": "ipython3",
   "version": "3.12.1"
  }
 },
 "nbformat": 4,
 "nbformat_minor": 5
}
